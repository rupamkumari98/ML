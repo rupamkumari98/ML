{
  "metadata": {
    "kernelspec": {
      "name": "python",
      "display_name": "Python (Pyodide)",
      "language": "python"
    },
    "language_info": {
      "codemirror_mode": {
        "name": "python",
        "version": 3
      },
      "file_extension": ".py",
      "mimetype": "text/x-python",
      "name": "python",
      "nbconvert_exporter": "python",
      "pygments_lexer": "ipython3",
      "version": "3.8"
    }
  },
  "nbformat_minor": 4,
  "nbformat": 4,
  "cells": [
    {
      "cell_type": "markdown",
      "source": "<p style=\"text-align:center\">\n    <a href=\"https://skills.network\" target=\"_blank\">\n    <img src=\"https://cf-courses-data.s3.us.cloud-object-storage.appdomain.cloud/assets/logos/SN_web_lightmode.png\" width=\"200\" alt=\"Skills Network Logo\">\n    </a>\n</p>\n",
      "metadata": {}
    },
    {
      "cell_type": "markdown",
      "source": "<center>\n\n# Practice lab\n\n</center>\n",
      "metadata": {}
    },
    {
      "cell_type": "markdown",
      "source": "<center>\n    \n# **Scenario: Text Analysis**\n\n</center>\n",
      "metadata": {}
    },
    {
      "cell_type": "markdown",
      "source": "# What is text analysis?\nText analysis, also known as text mining or text analytics, refers to the process of extracting meaningful information and insights from textual data.\n",
      "metadata": {}
    },
    {
      "cell_type": "markdown",
      "source": "## Objectives\n \nAfter completing this lab, one will be able to:\n- Use Python commands to perform text analysis.\n- Convert the text to lowercase and then find and count the frequency of all unique words, as well as a specified word.\n",
      "metadata": {}
    },
    {
      "cell_type": "markdown",
      "source": "## Setup\n",
      "metadata": {}
    },
    {
      "cell_type": "markdown",
      "source": "For this lab, I will be using the following data types:\n* List\n* Strings\n* Classes and objects\n",
      "metadata": {}
    },
    {
      "cell_type": "markdown",
      "source": "**Let's consider a real-life scenario where I need to analyze customer feedback for a product. I have given a large data set of customer reviews in the form of strings, and with this, I want to extract useful information from them using the three identified tasks:**\n\n**Task 1. String in lowercase:**\nI want to pre-process the customer feedback by converting all the text to lowercase. This step helps standardize the text. Lower casing the text allows me to focus on the content rather than the specific letter casing.\n\n**Task 2. Frequency of all words in a given string:**\nAfter converting the text to lowercase, I want to determine the frequency of each word in the customer feedback. This information will help me identify which words are used more frequently, indicating the key aspects or topics that customers are mentioning in their reviews. By analyzing the word frequencies, I can gain insights into the most common issues raised by customers.\n\n**Task 3. Frequency of a specific word:**\nIn addition to analyzing the overall word frequencies, I want to specifically track the frequency of a particular word that is relevant to my analysis. For example, one might be interested in monitoring how often the word \"reliable\" appears in customer reviews to gauge customer sentiment about the product's reliability. By focusing on the frequency of a specific word, one can gain a deeper understanding of customer opinions or preferences related to that particular aspect.\n\nBy performing these tasks on the customer feedback dataset, one can gain valuable insights into customer sentiment\n",
      "metadata": {}
    },
    {
      "cell_type": "markdown",
      "source": "----\n",
      "metadata": {}
    },
    {
      "cell_type": "markdown",
      "source": "<center>\n    \n# Part-A\n",
      "metadata": {}
    },
    {
      "cell_type": "markdown",
      "source": "## Step 1: Define a string\n\"Lorem ipsum dolor! diam amet, consetetur Lorem magna. sed diam nonumy eirmod tempor. diam et labore? et diam magna. et diam amet.\" <br>\n**Hint: Use a variable and store the above string.**\n",
      "metadata": {}
    },
    {
      "cell_type": "code",
      "source": "\ngivenstring=\"Lorem ipsum dolor! diam amet, consetetur Lorem magna. sed diam nonumy eirmod tempor. diam et labore? et diam magna. et diam amet.\"",
      "metadata": {
        "trusted": true
      },
      "outputs": [],
      "execution_count": 2
    },
    {
      "cell_type": "markdown",
      "source": "### To achieve the tasks mentioned in the scenario, I need to create a class with three different methods.\n",
      "metadata": {}
    },
    {
      "cell_type": "markdown",
      "source": "## Step 2: Defining the class and its attributes\n",
      "metadata": {}
    },
    {
      "cell_type": "markdown",
      "source": "1. Creating a class named TextAnalyzer.\n2. Define the constructor `__init__` method that takes a text argument.\n",
      "metadata": {}
    },
    {
      "cell_type": "code",
      "source": "# creating a class called TextAnalyzer to analyze text.\nclass TextAnalyzer(object):\n    def __init__(self, text):",
      "metadata": {
        "trusted": true
      },
      "outputs": [
        {
          "execution_count": 3,
          "output_type": "execute_result",
          "data": {
            "text/plain": "\"class TextAnalyzer(object):\\n    # The __init__ method initializes the class with a 'text' parameter.\\n    # You will store the provided 'text' as an instance variable.\\n    def __init__(self, text):\""
          },
          "metadata": {}
        }
      ],
      "execution_count": 3
    },
    {
      "cell_type": "markdown",
      "source": "----\n",
      "metadata": {}
    },
    {
      "cell_type": "markdown",
      "source": "## Step 3: Implementing a code to format the text in lowercase\n",
      "metadata": {}
    },
    {
      "cell_type": "markdown",
      "source": "1. Inside the constructor, converting the text argument to lowercase using the `lower()` method.\n2. Then, removing punctuation marks (periods, exclamation marks, commas, and question marks) from the text using the `replace()` method.\n3. Finally, assigning the formatted text to a new attribute called fmtText.\n\n**Here I will be updating the above `TextAnalyzer` class with the points mentioned above.**\n",
      "metadata": {}
    },
    {
      "cell_type": "code",
      "source": "class TextAnalzer(object):\n    \n    def __init__ (self, text):\n        # removing punctuation\n        formattedText = text.replace('.','').replace('!','').replace('?','').replace(',','')\n        \n        # making text lowercase\n        formattedText = formattedText.lower()\n        \n        self.fmtText = formattedText\n        ",
      "metadata": {
        "trusted": true
      },
      "outputs": [],
      "execution_count": 5
    },
    {
      "cell_type": "markdown",
      "source": "## Step 4: Implementing a code to count the frequency of all unique words\n",
      "metadata": {}
    },
    {
      "cell_type": "markdown",
      "source": "* In this step, implementing the `freqAll()` method with the below parameters:\n     1. Splitting the fmtText attribute into individual words using the `split()` method.\n     2. Creating an empty dictionary to store the word frequency.\n     3. Iterating over the list of words and update the frequency dictionary accordingly.\n     4. Using `count` method for counting the occurence.\n     5. Returning the frequency dictionary.\n     \n**Updating the above `TextAnalyzer` class with points mentioned above.**\n",
      "metadata": {}
    },
    {
      "cell_type": "code",
      "source": " def __init__ (self, text):\n        # removing punctuation\n        formattedText = text.replace('.','').replace('!','').replace('?','').replace(',','')\n        \n        # making text lowercase\n        formattedText = formattedText.lower()\n        \n        self.fmtText = formattedText\n        \n    def freqAll(self):        \n        # splitting text into words\n        wordList = self.fmtText.split(' ')\n        \n        # Creating dictionary\n        freqMap = {}\n        for word in set(wordList): # using set to remove duplicates in list\n            freqMap[word] = wordList.count(word)\n        \n        return freqMap",
      "metadata": {
        "trusted": true
      },
      "outputs": [],
      "execution_count": null
    },
    {
      "cell_type": "markdown",
      "source": "----\n",
      "metadata": {}
    },
    {
      "cell_type": "markdown",
      "source": "## Step 5: Implementing a code to count the frequency of a specific word\n",
      "metadata": {}
    },
    {
      "cell_type": "markdown",
      "source": "In step-5, implementing the `freqOf(word)` method that takes a word argument:\n   1. Creating a method and pass the word that needs to be found.\n   2. Getting the `freqAll` method to look for count and check if that word is in the list.\n   3. Returning the count. If the word is not found, the count returned is 0.\n   \n**Updating the above `TextAnalyzer` class with the points mentioned above.**\n",
      "metadata": {}
    },
    {
      "cell_type": "code",
      "source": "class TextAnalyzer(object):\n    \n    def __init__ (self, text):\n        # removing punctuation\n        formattedText = text.replace('.','').replace('!','').replace('?','').replace(',','')\n        \n        # making text lowercase\n        formattedText = formattedText.lower()\n        \n        self.fmtText = formattedText\n        \n    def freqAll(self):        \n        # splitting text into words\n        wordList = self.fmtText.split(' ')\n        \n        # Creating dictionary\n        freqMap = {}\n        for word in set(wordList): # use set to remove duplicates in list\n            freqMap[word] = wordList.count(word)\n        \n        return freqMap\n    \n    def freqOf(self,word):\n        # getting frequency map\n        freqDict = self.freqAll()\n        \n        if word in freqDict:\n            return freqDict[word]\n        else:\n            return 0",
      "metadata": {
        "trusted": true
      },
      "outputs": [],
      "execution_count": 6
    },
    {
      "cell_type": "markdown",
      "source": "<center>\n    \n# Part-B \n  \n",
      "metadata": {}
    },
    {
      "cell_type": "markdown",
      "source": "<center>\n    \n**In Part B, I will call the functions created in Part A, allowing the functions to execute and generate output.**\n    </center>\n",
      "metadata": {}
    },
    {
      "cell_type": "markdown",
      "source": "## Step 1: Creating an instance of TextAnalyzer class\n* Instantiating the TextAnalyzer class by passing the given string as an argument.\n",
      "metadata": {}
    },
    {
      "cell_type": "code",
      "source": "analyzed = TextAnalyzer(givenstring)",
      "metadata": {
        "trusted": true
      },
      "outputs": [],
      "execution_count": 7
    },
    {
      "cell_type": "markdown",
      "source": "## Step 2: Calling the function that converts the data into lowercase\n",
      "metadata": {}
    },
    {
      "cell_type": "code",
      "source": "print(\"Formatted Text:\", analyzed.fmtText)",
      "metadata": {
        "trusted": true
      },
      "outputs": [
        {
          "name": "stdout",
          "text": "Formatted Text: lorem ipsum dolor diam amet consetetur lorem magna sed diam nonumy eirmod tempor diam et labore et diam magna et diam amet\n",
          "output_type": "stream"
        }
      ],
      "execution_count": 8
    },
    {
      "cell_type": "markdown",
      "source": "Successfully converted string into lowercase.\n",
      "metadata": {}
    },
    {
      "cell_type": "markdown",
      "source": "## Step 3: Calling the function that counts the frequency of all unique words from the data\n",
      "metadata": {}
    },
    {
      "cell_type": "code",
      "source": "freqMap = analyzed.freqAll()\nprint(freqMap)",
      "metadata": {
        "trusted": true
      },
      "outputs": [
        {
          "name": "stdout",
          "text": "{'magna': 2, 'labore': 1, 'diam': 5, 'consetetur': 1, 'et': 3, 'lorem': 2, 'dolor': 1, 'nonumy': 1, 'amet': 2, 'tempor': 1, 'sed': 1, 'ipsum': 1, 'eirmod': 1}\n",
          "output_type": "stream"
        }
      ],
      "execution_count": 9
    },
    {
      "cell_type": "markdown",
      "source": "Successfully calculated the frequency of all unique words in the string.",
      "metadata": {}
    },
    {
      "cell_type": "markdown",
      "source": "## Step 4: Calling the function that counts the frequency of a specific word\nHere, I will call the function that counts the frequency of the word \"lorem\".\n<br>\n\nPrinting the count.**\n",
      "metadata": {}
    },
    {
      "cell_type": "code",
      "source": "# type your code here\nword = \"lorem\"\nfrequency = analyzed.freqOf(word)\nprint(\"The word\",word,\"appears\",frequency,\"times.\")",
      "metadata": {
        "trusted": true
      },
      "outputs": [
        {
          "name": "stdout",
          "text": "The word lorem appears 2 times.\n",
          "output_type": "stream"
        }
      ],
      "execution_count": 10
    },
    {
      "cell_type": "markdown",
      "source": "Successfully calculated the frequency of all specified words.\n",
      "metadata": {}
    },
    {
      "cell_type": "markdown",
      "source": "----\n",
      "metadata": {}
    },
    {
      "cell_type": "markdown",
      "source": "<!--\n## Change Log\n-->\n",
      "metadata": {}
    },
    {
      "cell_type": "markdown",
      "source": "<!--\n|Date (YYYY-MM-DD)|Version|Changed By|Change Description|\n|-|-|-|-|\n|2023-11-05|0.4|Abhishek Gagneja| Updated lab instructions|\n|2023-05-17|0.3|Akansha yadav| Created lab under maintenance|\n|2020-07-17|0.1|Sam     |Create Lab Template|\n|2022-11-19|0.2|Shengkai|Update Lab Template|\n-->\n",
      "metadata": {}
    },
    {
      "cell_type": "markdown",
      "source": "© Copyright IBM Corporation. All rights reserved.\n",
      "metadata": {}
    }
  ]
}