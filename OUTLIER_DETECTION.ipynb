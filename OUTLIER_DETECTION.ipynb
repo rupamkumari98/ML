{
  "metadata": {
    "kernelspec": {
      "name": "python",
      "display_name": "Python (Pyodide)",
      "language": "python"
    },
    "language_info": {
      "codemirror_mode": {
        "name": "python",
        "version": 3
      },
      "file_extension": ".py",
      "mimetype": "text/x-python",
      "name": "python",
      "nbconvert_exporter": "python",
      "pygments_lexer": "ipython3",
      "version": "3.8"
    }
  },
  "nbformat_minor": 4,
  "nbformat": 4,
  "cells": [
    {
      "cell_type": "markdown",
      "source": "OUTLIER DETECTION AND REMOVAL USING ZSCORE, STD DEVIATION",
      "metadata": {}
    },
    {
      "cell_type": "code",
      "source": "import pandas as pd\nimport matplotlib\nfrom matplotlib import pyplot as plt\n%matplotlib inline\nmatplotlib.rcParams[\"figure.figsize\"]=(10,6)",
      "metadata": {
        "trusted": true
      },
      "outputs": [],
      "execution_count": 45
    },
    {
      "cell_type": "code",
      "source": "df=pd.read_csv(\"weight-height.csv\")\ndf.sample(5)",
      "metadata": {
        "trusted": true
      },
      "outputs": [
        {
          "execution_count": 46,
          "output_type": "execute_result",
          "data": {
            "text/plain": "      Gender     Height      Weight\n2968    Male  73.847530  205.479368\n2374    Male  70.752012  197.838902\n1533    Male  75.819040  230.939454\n1837    Male  71.897045  216.053052\n9361  Female  64.141960  144.071684",
            "text/html": "<div>\n<style scoped>\n    .dataframe tbody tr th:only-of-type {\n        vertical-align: middle;\n    }\n\n    .dataframe tbody tr th {\n        vertical-align: top;\n    }\n\n    .dataframe thead th {\n        text-align: right;\n    }\n</style>\n<table border=\"1\" class=\"dataframe\">\n  <thead>\n    <tr style=\"text-align: right;\">\n      <th></th>\n      <th>Gender</th>\n      <th>Height</th>\n      <th>Weight</th>\n    </tr>\n  </thead>\n  <tbody>\n    <tr>\n      <th>2968</th>\n      <td>Male</td>\n      <td>73.847530</td>\n      <td>205.479368</td>\n    </tr>\n    <tr>\n      <th>2374</th>\n      <td>Male</td>\n      <td>70.752012</td>\n      <td>197.838902</td>\n    </tr>\n    <tr>\n      <th>1533</th>\n      <td>Male</td>\n      <td>75.819040</td>\n      <td>230.939454</td>\n    </tr>\n    <tr>\n      <th>1837</th>\n      <td>Male</td>\n      <td>71.897045</td>\n      <td>216.053052</td>\n    </tr>\n    <tr>\n      <th>9361</th>\n      <td>Female</td>\n      <td>64.141960</td>\n      <td>144.071684</td>\n    </tr>\n  </tbody>\n</table>\n</div>"
          },
          "metadata": {}
        }
      ],
      "execution_count": 46
    },
    {
      "cell_type": "code",
      "source": "df=df.drop(\"Weight\",axis= 1)\n",
      "metadata": {
        "trusted": true
      },
      "outputs": [],
      "execution_count": 47
    },
    {
      "cell_type": "code",
      "source": "df",
      "metadata": {
        "trusted": true
      },
      "outputs": [
        {
          "execution_count": 48,
          "output_type": "execute_result",
          "data": {
            "text/plain": "      Gender     Height\n0       Male  73.847017\n1       Male  68.781904\n2       Male  74.110105\n3       Male  71.730978\n4       Male  69.881796\n...      ...        ...\n9995  Female  66.172652\n9996  Female  67.067155\n9997  Female  63.867992\n9998  Female  69.034243\n9999  Female  61.944246\n\n[10000 rows x 2 columns]",
            "text/html": "<div>\n<style scoped>\n    .dataframe tbody tr th:only-of-type {\n        vertical-align: middle;\n    }\n\n    .dataframe tbody tr th {\n        vertical-align: top;\n    }\n\n    .dataframe thead th {\n        text-align: right;\n    }\n</style>\n<table border=\"1\" class=\"dataframe\">\n  <thead>\n    <tr style=\"text-align: right;\">\n      <th></th>\n      <th>Gender</th>\n      <th>Height</th>\n    </tr>\n  </thead>\n  <tbody>\n    <tr>\n      <th>0</th>\n      <td>Male</td>\n      <td>73.847017</td>\n    </tr>\n    <tr>\n      <th>1</th>\n      <td>Male</td>\n      <td>68.781904</td>\n    </tr>\n    <tr>\n      <th>2</th>\n      <td>Male</td>\n      <td>74.110105</td>\n    </tr>\n    <tr>\n      <th>3</th>\n      <td>Male</td>\n      <td>71.730978</td>\n    </tr>\n    <tr>\n      <th>4</th>\n      <td>Male</td>\n      <td>69.881796</td>\n    </tr>\n    <tr>\n      <th>...</th>\n      <td>...</td>\n      <td>...</td>\n    </tr>\n    <tr>\n      <th>9995</th>\n      <td>Female</td>\n      <td>66.172652</td>\n    </tr>\n    <tr>\n      <th>9996</th>\n      <td>Female</td>\n      <td>67.067155</td>\n    </tr>\n    <tr>\n      <th>9997</th>\n      <td>Female</td>\n      <td>63.867992</td>\n    </tr>\n    <tr>\n      <th>9998</th>\n      <td>Female</td>\n      <td>69.034243</td>\n    </tr>\n    <tr>\n      <th>9999</th>\n      <td>Female</td>\n      <td>61.944246</td>\n    </tr>\n  </tbody>\n</table>\n<p>10000 rows × 2 columns</p>\n</div>"
          },
          "metadata": {}
        }
      ],
      "execution_count": 48
    },
    {
      "cell_type": "code",
      "source": "plt.hist(df.Height,bins=20, rwidth= 0.8)\nplt.xlabel(\"Height(inches)\")\nplt.ylabel(\"count\")\nplt.show()",
      "metadata": {
        "trusted": true
      },
      "outputs": [
        {
          "output_type": "display_data",
          "data": {
            "text/plain": "<Figure size 1000x600 with 1 Axes>",
            "image/png": "[encoded data removed]"
          },
          "metadata": {}
        }
      ],
      "execution_count": 49
    },
    {
      "cell_type": "code",
      "source": "df.Height.min()",
      "metadata": {
        "trusted": true
      },
      "outputs": [
        {
          "execution_count": 50,
          "output_type": "execute_result",
          "data": {
            "text/plain": "54.2631333250971"
          },
          "metadata": {}
        }
      ],
      "execution_count": 50
    },
    {
      "cell_type": "code",
      "source": "df.Height.max()",
      "metadata": {
        "trusted": true
      },
      "outputs": [
        {
          "execution_count": 51,
          "output_type": "execute_result",
          "data": {
            "text/plain": "78.9987423463896"
          },
          "metadata": {}
        }
      ],
      "execution_count": 51
    },
    {
      "cell_type": "code",
      "source": "df.Height.describe()",
      "metadata": {
        "trusted": true
      },
      "outputs": [
        {
          "execution_count": 52,
          "output_type": "execute_result",
          "data": {
            "text/plain": "count    10000.000000\nmean        66.367560\nstd          3.847528\nmin         54.263133\n25%         63.505620\n50%         66.318070\n75%         69.174262\nmax         78.998742\nName: Height, dtype: float64"
          },
          "metadata": {}
        }
      ],
      "execution_count": 52
    },
    {
      "cell_type": "code",
      "source": "from scipy.stats import norm\nimport matplotlib.pyplot as plt\nimport numpy as np\nplt.hist(df.Height,bins=20, rwidth= 0.8, density= True)\nplt.xlabel(\"Height(inches)\")\nplt.ylabel(\"count\")\n\nrng= np.arange(df.Height.min(), df.Height.max(), 0.1)\nplt.plot(rng, norm.pdf(rng,df.Height.mean(), df.Height.std()))",
      "metadata": {
        "trusted": true
      },
      "outputs": [
        {
          "execution_count": 53,
          "output_type": "execute_result",
          "data": {
            "text/plain": "[<matplotlib.lines.Line2D at 0xa1d8910>]"
          },
          "metadata": {}
        },
        {
          "output_type": "display_data",
          "data": {
            "text/plain": "<Figure size 1000x600 with 1 Axes>",
            "image/png": "[encoded data removed]"
          },
          "metadata": {}
        }
      ],
      "execution_count": 53
    },
    {
      "cell_type": "code",
      "source": "#SHOWS NORMAL DISTRIBUTION ABOVE",
      "metadata": {
        "trusted": true
      },
      "outputs": [],
      "execution_count": 54
    },
    {
      "cell_type": "code",
      "source": "df.Height.mean()",
      "metadata": {
        "trusted": true
      },
      "outputs": [
        {
          "execution_count": 55,
          "output_type": "execute_result",
          "data": {
            "text/plain": "66.36755975482124"
          },
          "metadata": {}
        }
      ],
      "execution_count": 55
    },
    {
      "cell_type": "code",
      "source": "df.Height.std()\n# standard deviation is how far teh datset is away from the mean.\n#standard deviation: 68% of the values are within 1 standard deviation of the mean.\n#standard deviation: 95% of the values are within 2 standard deviation of the mean.\n#standard deviation: 99.7% of the values are within 3 standard deviation of the mean.",
      "metadata": {
        "trusted": true
      },
      "outputs": [
        {
          "execution_count": 56,
          "output_type": "execute_result",
          "data": {
            "text/plain": "3.8475281207732293"
          },
          "metadata": {}
        }
      ],
      "execution_count": 56
    },
    {
      "cell_type": "code",
      "source": "# here we use 3 standard deviation to remove the outliers\n# first finding outliers on right side of the dataset.\nupper_limit= df.Height.mean()+ 3*df.Height.std()\nupper_limit",
      "metadata": {
        "trusted": true
      },
      "outputs": [
        {
          "execution_count": 57,
          "output_type": "execute_result",
          "data": {
            "text/plain": "77.91014411714093"
          },
          "metadata": {}
        }
      ],
      "execution_count": 57
    },
    {
      "cell_type": "code",
      "source": "# second finding outliers on left side of the dataset.\nlower_limit= df.Height.mean()- 3*df.Height.std()\nlower_limit",
      "metadata": {
        "trusted": true
      },
      "outputs": [
        {
          "execution_count": 58,
          "output_type": "execute_result",
          "data": {
            "text/plain": "54.82497539250156"
          },
          "metadata": {}
        }
      ],
      "execution_count": 58
    },
    {
      "cell_type": "code",
      "source": "# finding total outliers from the given dataset.\noutlier= df[(df.Height>upper_limit) | (df.Height< lower_limit)]\noutlier\n",
      "metadata": {
        "trusted": true
      },
      "outputs": [
        {
          "execution_count": 59,
          "output_type": "execute_result",
          "data": {
            "text/plain": "      Gender     Height\n994     Male  78.095867\n1317    Male  78.462053\n2014    Male  78.998742\n3285    Male  78.528210\n3757    Male  78.621374\n6624  Female  54.616858\n9285  Female  54.263133",
            "text/html": "<div>\n<style scoped>\n    .dataframe tbody tr th:only-of-type {\n        vertical-align: middle;\n    }\n\n    .dataframe tbody tr th {\n        vertical-align: top;\n    }\n\n    .dataframe thead th {\n        text-align: right;\n    }\n</style>\n<table border=\"1\" class=\"dataframe\">\n  <thead>\n    <tr style=\"text-align: right;\">\n      <th></th>\n      <th>Gender</th>\n      <th>Height</th>\n    </tr>\n  </thead>\n  <tbody>\n    <tr>\n      <th>994</th>\n      <td>Male</td>\n      <td>78.095867</td>\n    </tr>\n    <tr>\n      <th>1317</th>\n      <td>Male</td>\n      <td>78.462053</td>\n    </tr>\n    <tr>\n      <th>2014</th>\n      <td>Male</td>\n      <td>78.998742</td>\n    </tr>\n    <tr>\n      <th>3285</th>\n      <td>Male</td>\n      <td>78.528210</td>\n    </tr>\n    <tr>\n      <th>3757</th>\n      <td>Male</td>\n      <td>78.621374</td>\n    </tr>\n    <tr>\n      <th>6624</th>\n      <td>Female</td>\n      <td>54.616858</td>\n    </tr>\n    <tr>\n      <th>9285</th>\n      <td>Female</td>\n      <td>54.263133</td>\n    </tr>\n  </tbody>\n</table>\n</div>"
          },
          "metadata": {}
        }
      ],
      "execution_count": 59
    },
    {
      "cell_type": "code",
      "source": "# datset without outliers\ndf_without_outlier= df[(df.Height<upper_limit) & (df.Height> lower_limit)]\ndf_without_outlier",
      "metadata": {
        "trusted": true
      },
      "outputs": [
        {
          "execution_count": 60,
          "output_type": "execute_result",
          "data": {
            "text/plain": "      Gender     Height\n0       Male  73.847017\n1       Male  68.781904\n2       Male  74.110105\n3       Male  71.730978\n4       Male  69.881796\n...      ...        ...\n9995  Female  66.172652\n9996  Female  67.067155\n9997  Female  63.867992\n9998  Female  69.034243\n9999  Female  61.944246\n\n[9993 rows x 2 columns]",
            "text/html": "<div>\n<style scoped>\n    .dataframe tbody tr th:only-of-type {\n        vertical-align: middle;\n    }\n\n    .dataframe tbody tr th {\n        vertical-align: top;\n    }\n\n    .dataframe thead th {\n        text-align: right;\n    }\n</style>\n<table border=\"1\" class=\"dataframe\">\n  <thead>\n    <tr style=\"text-align: right;\">\n      <th></th>\n      <th>Gender</th>\n      <th>Height</th>\n    </tr>\n  </thead>\n  <tbody>\n    <tr>\n      <th>0</th>\n      <td>Male</td>\n      <td>73.847017</td>\n    </tr>\n    <tr>\n      <th>1</th>\n      <td>Male</td>\n      <td>68.781904</td>\n    </tr>\n    <tr>\n      <th>2</th>\n      <td>Male</td>\n      <td>74.110105</td>\n    </tr>\n    <tr>\n      <th>3</th>\n      <td>Male</td>\n      <td>71.730978</td>\n    </tr>\n    <tr>\n      <th>4</th>\n      <td>Male</td>\n      <td>69.881796</td>\n    </tr>\n    <tr>\n      <th>...</th>\n      <td>...</td>\n      <td>...</td>\n    </tr>\n    <tr>\n      <th>9995</th>\n      <td>Female</td>\n      <td>66.172652</td>\n    </tr>\n    <tr>\n      <th>9996</th>\n      <td>Female</td>\n      <td>67.067155</td>\n    </tr>\n    <tr>\n      <th>9997</th>\n      <td>Female</td>\n      <td>63.867992</td>\n    </tr>\n    <tr>\n      <th>9998</th>\n      <td>Female</td>\n      <td>69.034243</td>\n    </tr>\n    <tr>\n      <th>9999</th>\n      <td>Female</td>\n      <td>61.944246</td>\n    </tr>\n  </tbody>\n</table>\n<p>9993 rows × 2 columns</p>\n</div>"
          },
          "metadata": {}
        }
      ],
      "execution_count": 60
    },
    {
      "cell_type": "code",
      "source": "# Total number of outliers removed from the datset can be calculated as:\ndf.shape[0]-df_without_outlier.shape[0]\n",
      "metadata": {
        "trusted": true
      },
      "outputs": [
        {
          "execution_count": 61,
          "output_type": "execute_result",
          "data": {
            "text/plain": "7"
          },
          "metadata": {}
        }
      ],
      "execution_count": 61
    },
    {
      "cell_type": "markdown",
      "source": "Total number of outliers removed: 7",
      "metadata": {}
    },
    {
      "cell_type": "markdown",
      "source": "# Using z-score,std to detect and remove outliers",
      "metadata": {}
    },
    {
      "cell_type": "markdown",
      "source": "Z score is a way too achievethe same thing that we did in above part.\n\nZ score indicates how many standard deviation away a data point is.\n\nFor example: in our case mean si 66.37 and standard deviation is 3.84\nif a value of a data point is 771, then Z score is 3, that can be calculated as:\n(77.91= 66.37+3",
      "metadata": {}
    },
    {
      "cell_type": "markdown",
      "source": "Calculate the  Z-Score:\n\nZ= (x - µ)/ σ\n\nwhere x is the current datapoint, µ is the mean and σ is the standard deviation.\n",
      "metadata": {}
    },
    {
      "cell_type": "code",
      "source": "df.info()",
      "metadata": {
        "trusted": true
      },
      "outputs": [
        {
          "name": "stdout",
          "text": "<class 'pandas.core.frame.DataFrame'>\nRangeIndex: 10000 entries, 0 to 9999\nData columns (total 2 columns):\n #   Column  Non-Null Count  Dtype  \n---  ------  --------------  -----  \n 0   Gender  10000 non-null  object \n 1   Height  10000 non-null  float64\ndtypes: float64(1), object(1)\nmemory usage: 117.3+ KB\n",
          "output_type": "stream"
        }
      ],
      "execution_count": 62
    },
    {
      "cell_type": "code",
      "source": "df[\"zscore\"]=(df.Height- df.Height.mean())/ df.Height.std()\ndf.head(5)",
      "metadata": {
        "trusted": true
      },
      "outputs": [
        {
          "execution_count": 63,
          "output_type": "execute_result",
          "data": {
            "text/plain": "  Gender     Height    zscore\n0   Male  73.847017  1.943964\n1   Male  68.781904  0.627505\n2   Male  74.110105  2.012343\n3   Male  71.730978  1.393991\n4   Male  69.881796  0.913375",
            "text/html": "<div>\n<style scoped>\n    .dataframe tbody tr th:only-of-type {\n        vertical-align: middle;\n    }\n\n    .dataframe tbody tr th {\n        vertical-align: top;\n    }\n\n    .dataframe thead th {\n        text-align: right;\n    }\n</style>\n<table border=\"1\" class=\"dataframe\">\n  <thead>\n    <tr style=\"text-align: right;\">\n      <th></th>\n      <th>Gender</th>\n      <th>Height</th>\n      <th>zscore</th>\n    </tr>\n  </thead>\n  <tbody>\n    <tr>\n      <th>0</th>\n      <td>Male</td>\n      <td>73.847017</td>\n      <td>1.943964</td>\n    </tr>\n    <tr>\n      <th>1</th>\n      <td>Male</td>\n      <td>68.781904</td>\n      <td>0.627505</td>\n    </tr>\n    <tr>\n      <th>2</th>\n      <td>Male</td>\n      <td>74.110105</td>\n      <td>2.012343</td>\n    </tr>\n    <tr>\n      <th>3</th>\n      <td>Male</td>\n      <td>71.730978</td>\n      <td>1.393991</td>\n    </tr>\n    <tr>\n      <th>4</th>\n      <td>Male</td>\n      <td>69.881796</td>\n      <td>0.913375</td>\n    </tr>\n  </tbody>\n</table>\n</div>"
          },
          "metadata": {}
        }
      ],
      "execution_count": 63
    },
    {
      "cell_type": "code",
      "source": "# Z score will remove that falls below -3 and above +3,as it considers them as outliers\n# Z score consider outliers that are below -3 range and above +3 range.",
      "metadata": {
        "trusted": true
      },
      "outputs": [],
      "execution_count": 64
    },
    {
      "cell_type": "markdown",
      "source": "Interpretatation of first Z-score",
      "metadata": {}
    },
    {
      "cell_type": "code",
      "source": "(73.847017- 66.36755975482124)/3.8475281207732293",
      "metadata": {
        "trusted": true
      },
      "outputs": [
        {
          "execution_count": 65,
          "output_type": "execute_result",
          "data": {
            "text/plain": "1.9439642831448936"
          },
          "metadata": {}
        }
      ],
      "execution_count": 65
    },
    {
      "cell_type": "code",
      "source": "df[df[\"zscore\"]>3]",
      "metadata": {
        "trusted": true
      },
      "outputs": [
        {
          "execution_count": 66,
          "output_type": "execute_result",
          "data": {
            "text/plain": "     Gender     Height    zscore\n994    Male  78.095867  3.048271\n1317   Male  78.462053  3.143445\n2014   Male  78.998742  3.282934\n3285   Male  78.528210  3.160640\n3757   Male  78.621374  3.184854",
            "text/html": "<div>\n<style scoped>\n    .dataframe tbody tr th:only-of-type {\n        vertical-align: middle;\n    }\n\n    .dataframe tbody tr th {\n        vertical-align: top;\n    }\n\n    .dataframe thead th {\n        text-align: right;\n    }\n</style>\n<table border=\"1\" class=\"dataframe\">\n  <thead>\n    <tr style=\"text-align: right;\">\n      <th></th>\n      <th>Gender</th>\n      <th>Height</th>\n      <th>zscore</th>\n    </tr>\n  </thead>\n  <tbody>\n    <tr>\n      <th>994</th>\n      <td>Male</td>\n      <td>78.095867</td>\n      <td>3.048271</td>\n    </tr>\n    <tr>\n      <th>1317</th>\n      <td>Male</td>\n      <td>78.462053</td>\n      <td>3.143445</td>\n    </tr>\n    <tr>\n      <th>2014</th>\n      <td>Male</td>\n      <td>78.998742</td>\n      <td>3.282934</td>\n    </tr>\n    <tr>\n      <th>3285</th>\n      <td>Male</td>\n      <td>78.528210</td>\n      <td>3.160640</td>\n    </tr>\n    <tr>\n      <th>3757</th>\n      <td>Male</td>\n      <td>78.621374</td>\n      <td>3.184854</td>\n    </tr>\n  </tbody>\n</table>\n</div>"
          },
          "metadata": {}
        }
      ],
      "execution_count": 66
    },
    {
      "cell_type": "code",
      "source": "df[df[\"zscore\"]<-3]",
      "metadata": {
        "trusted": true
      },
      "outputs": [
        {
          "execution_count": 67,
          "output_type": "execute_result",
          "data": {
            "text/plain": "      Gender     Height    zscore\n6624  Female  54.616858 -3.054091\n9285  Female  54.263133 -3.146027",
            "text/html": "<div>\n<style scoped>\n    .dataframe tbody tr th:only-of-type {\n        vertical-align: middle;\n    }\n\n    .dataframe tbody tr th {\n        vertical-align: top;\n    }\n\n    .dataframe thead th {\n        text-align: right;\n    }\n</style>\n<table border=\"1\" class=\"dataframe\">\n  <thead>\n    <tr style=\"text-align: right;\">\n      <th></th>\n      <th>Gender</th>\n      <th>Height</th>\n      <th>zscore</th>\n    </tr>\n  </thead>\n  <tbody>\n    <tr>\n      <th>6624</th>\n      <td>Female</td>\n      <td>54.616858</td>\n      <td>-3.054091</td>\n    </tr>\n    <tr>\n      <th>9285</th>\n      <td>Female</td>\n      <td>54.263133</td>\n      <td>-3.146027</td>\n    </tr>\n  </tbody>\n</table>\n</div>"
          },
          "metadata": {}
        }
      ],
      "execution_count": 67
    },
    {
      "cell_type": "code",
      "source": "df[(df.zscore<-3)| (df.zscore>3)]",
      "metadata": {
        "trusted": true
      },
      "outputs": [
        {
          "execution_count": 68,
          "output_type": "execute_result",
          "data": {
            "text/plain": "      Gender     Height    zscore\n994     Male  78.095867  3.048271\n1317    Male  78.462053  3.143445\n2014    Male  78.998742  3.282934\n3285    Male  78.528210  3.160640\n3757    Male  78.621374  3.184854\n6624  Female  54.616858 -3.054091\n9285  Female  54.263133 -3.146027",
            "text/html": "<div>\n<style scoped>\n    .dataframe tbody tr th:only-of-type {\n        vertical-align: middle;\n    }\n\n    .dataframe tbody tr th {\n        vertical-align: top;\n    }\n\n    .dataframe thead th {\n        text-align: right;\n    }\n</style>\n<table border=\"1\" class=\"dataframe\">\n  <thead>\n    <tr style=\"text-align: right;\">\n      <th></th>\n      <th>Gender</th>\n      <th>Height</th>\n      <th>zscore</th>\n    </tr>\n  </thead>\n  <tbody>\n    <tr>\n      <th>994</th>\n      <td>Male</td>\n      <td>78.095867</td>\n      <td>3.048271</td>\n    </tr>\n    <tr>\n      <th>1317</th>\n      <td>Male</td>\n      <td>78.462053</td>\n      <td>3.143445</td>\n    </tr>\n    <tr>\n      <th>2014</th>\n      <td>Male</td>\n      <td>78.998742</td>\n      <td>3.282934</td>\n    </tr>\n    <tr>\n      <th>3285</th>\n      <td>Male</td>\n      <td>78.528210</td>\n      <td>3.160640</td>\n    </tr>\n    <tr>\n      <th>3757</th>\n      <td>Male</td>\n      <td>78.621374</td>\n      <td>3.184854</td>\n    </tr>\n    <tr>\n      <th>6624</th>\n      <td>Female</td>\n      <td>54.616858</td>\n      <td>-3.054091</td>\n    </tr>\n    <tr>\n      <th>9285</th>\n      <td>Female</td>\n      <td>54.263133</td>\n      <td>-3.146027</td>\n    </tr>\n  </tbody>\n</table>\n</div>"
          },
          "metadata": {}
        }
      ],
      "execution_count": 68
    },
    {
      "cell_type": "code",
      "source": "# shows 7 outlier here.\ndf_without_outliers_by_zscore= df[(df.zscore>-3)&(df.zscore<3)]\ndf_without_outliers_by_zscore.head()",
      "metadata": {
        "trusted": true
      },
      "outputs": [
        {
          "execution_count": 69,
          "output_type": "execute_result",
          "data": {
            "text/plain": "  Gender     Height    zscore\n0   Male  73.847017  1.943964\n1   Male  68.781904  0.627505\n2   Male  74.110105  2.012343\n3   Male  71.730978  1.393991\n4   Male  69.881796  0.913375",
            "text/html": "<div>\n<style scoped>\n    .dataframe tbody tr th:only-of-type {\n        vertical-align: middle;\n    }\n\n    .dataframe tbody tr th {\n        vertical-align: top;\n    }\n\n    .dataframe thead th {\n        text-align: right;\n    }\n</style>\n<table border=\"1\" class=\"dataframe\">\n  <thead>\n    <tr style=\"text-align: right;\">\n      <th></th>\n      <th>Gender</th>\n      <th>Height</th>\n      <th>zscore</th>\n    </tr>\n  </thead>\n  <tbody>\n    <tr>\n      <th>0</th>\n      <td>Male</td>\n      <td>73.847017</td>\n      <td>1.943964</td>\n    </tr>\n    <tr>\n      <th>1</th>\n      <td>Male</td>\n      <td>68.781904</td>\n      <td>0.627505</td>\n    </tr>\n    <tr>\n      <th>2</th>\n      <td>Male</td>\n      <td>74.110105</td>\n      <td>2.012343</td>\n    </tr>\n    <tr>\n      <th>3</th>\n      <td>Male</td>\n      <td>71.730978</td>\n      <td>1.393991</td>\n    </tr>\n    <tr>\n      <th>4</th>\n      <td>Male</td>\n      <td>69.881796</td>\n      <td>0.913375</td>\n    </tr>\n  </tbody>\n</table>\n</div>"
          },
          "metadata": {}
        }
      ],
      "execution_count": 69
    },
    {
      "cell_type": "markdown",
      "source": "dataframe(df_without_outliers_by_zscore) shows dataset without outliers through zscoremethod",
      "metadata": {}
    },
    {
      "cell_type": "code",
      "source": "df.shape[0]- df_without_outliers_by_zscore.shape[0]",
      "metadata": {
        "trusted": true
      },
      "outputs": [
        {
          "execution_count": 70,
          "output_type": "execute_result",
          "data": {
            "text/plain": "7"
          },
          "metadata": {}
        }
      ],
      "execution_count": 70
    },
    {
      "cell_type": "markdown",
      "source": "TOTAL OUTLIERS REMOVED: 7",
      "metadata": {}
    }
  ]
}